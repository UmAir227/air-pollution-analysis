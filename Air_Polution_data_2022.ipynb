{
  "nbformat": 4,
  "nbformat_minor": 0,
  "metadata": {
    "colab": {
      "provenance": []
    },
    "kernelspec": {
      "name": "python3",
      "display_name": "Python 3"
    },
    "language_info": {
      "name": "python"
    }
  },
  "cells": [
    {
      "cell_type": "markdown",
      "source": [],
      "metadata": {
        "id": "Cm8DG6EuysGC"
      }
    },
    {
      "cell_type": "markdown",
      "source": [
        "**Analysis of Air Quality Index of Countries around the world**\n",
        "\n",
        "\n",
        "AQI is a recognized index which is helped to measure and understand the quality of the air in a given environment. I have heavily used python along with its pandas library for analysis.The data only consist aqi records from 3 years: 2022, 2023, and 2024. This analysis focuses on finding out how many countries have improved their aqi level status, how many have maintained their aqi levels, and how many have deteriorated their aqi levels. Result will also contain the countries which improved their aqi levels the most and the ones which detereorated the aqi levels the most."
      ],
      "metadata": {
        "id": "8jh2Yoxhyof6"
      }
    },
    {
      "cell_type": "markdown",
      "source": [],
      "metadata": {
        "id": "uG88DmQAyno5"
      }
    },
    {
      "cell_type": "code",
      "execution_count": 1,
      "metadata": {
        "id": "ArfawO-zMshm"
      },
      "outputs": [],
      "source": [
        "#import some libraries for data analysis\n",
        "import pandas as pd\n",
        "import numpy as np\n",
        "import seaborn as sns\n",
        "import matplotlib.pyplot as plt\n",
        "from PIL import Image"
      ]
    },
    {
      "cell_type": "code",
      "source": [
        "# prompt: mount google drive\n",
        "\n",
        "from google.colab import drive\n",
        "drive.mount('/content/drive')"
      ],
      "metadata": {
        "colab": {
          "base_uri": "https://localhost:8080/"
        },
        "id": "2ahk8mpuxuXa",
        "outputId": "627b807d-3ad7-444a-ba2b-14233110d300"
      },
      "execution_count": 3,
      "outputs": [
        {
          "output_type": "stream",
          "name": "stdout",
          "text": [
            "Mounted at /content/drive\n"
          ]
        }
      ]
    },
    {
      "cell_type": "code",
      "source": [
        "image = Image.open('/content/air-pollution-in-urban-area.jpg')"
      ],
      "metadata": {
        "id": "Dq84VVstPYdT"
      },
      "execution_count": null,
      "outputs": []
    },
    {
      "cell_type": "code",
      "source": [
        "from google.colab import drive\n",
        "drive.mount('/content/drive')"
      ],
      "metadata": {
        "id": "-jWSIwlwx8ou"
      },
      "execution_count": null,
      "outputs": []
    },
    {
      "cell_type": "code",
      "source": [
        "plt.imshow(image)\n",
        "plt.axis('off')  # Hide axes\n",
        "plt.show()"
      ],
      "metadata": {
        "id": "Uc6tFBPNQeyV"
      },
      "execution_count": null,
      "outputs": []
    },
    {
      "cell_type": "code",
      "source": [
        "#For data Loading\n",
        "data = pd.read_csv('/content/data_date.csv')"
      ],
      "metadata": {
        "id": "KTTBnNUQQler"
      },
      "execution_count": null,
      "outputs": []
    },
    {
      "cell_type": "code",
      "source": [
        "\n",
        "data.head(10)"
      ],
      "metadata": {
        "id": "enmnKRjBQv51"
      },
      "execution_count": null,
      "outputs": []
    },
    {
      "cell_type": "code",
      "source": [
        "data.tail()"
      ],
      "metadata": {
        "id": "qruO6JR02BYE"
      },
      "execution_count": null,
      "outputs": []
    },
    {
      "cell_type": "code",
      "source": [
        "print(f\"Total number of rows in data = {len(data)}\")"
      ],
      "metadata": {
        "id": "RA9YB8E32GBK"
      },
      "execution_count": null,
      "outputs": []
    },
    {
      "cell_type": "code",
      "source": [
        "data.duplicated().sum()"
      ],
      "metadata": {
        "id": "ucn3O1bd2Hxz"
      },
      "execution_count": null,
      "outputs": []
    },
    {
      "cell_type": "code",
      "source": [
        "# There are 300 duplicates in this dataset. We will have to remove those duplicates for correct and accurate analysis\n",
        "data.drop_duplicates(inplace=True)\n",
        "data.duplicated().sum()"
      ],
      "metadata": {
        "id": "9TgNMlfi2Giq"
      },
      "execution_count": null,
      "outputs": []
    },
    {
      "cell_type": "code",
      "source": [
        "missing_values = data.isnull().sum()\n",
        "print(\"Missing values in each column:\\n\", missing_values)"
      ],
      "metadata": {
        "id": "v56UdqcjQx1T"
      },
      "execution_count": null,
      "outputs": []
    },
    {
      "cell_type": "code",
      "source": [
        "#Know we see how many different countries we have in our dataset.\n",
        "data[\"Date\"] = pd.to_datetime(data[\"Date\"])\n",
        "\n",
        "data[\"Year\"] = data[\"Date\"].dt.year\n",
        "data[\"Month\"] = data[\"Date\"].dt.month\n",
        "data[\"Day\"] = data[\"Date\"].dt.day\n",
        "\n",
        "data.head()"
      ],
      "metadata": {
        "id": "oEyl4waxxu0K"
      },
      "execution_count": null,
      "outputs": []
    },
    {
      "cell_type": "markdown",
      "source": [],
      "metadata": {
        "id": "Amr_uJtZyeG6"
      }
    },
    {
      "cell_type": "code",
      "source": [
        "data.info()\n"
      ],
      "metadata": {
        "id": "iBuluLnQRRaV"
      },
      "execution_count": null,
      "outputs": []
    },
    {
      "cell_type": "code",
      "source": [
        "len(data[\"Country\"].unique())"
      ],
      "metadata": {
        "id": "JwhhfqqH4Or0"
      },
      "execution_count": null,
      "outputs": []
    },
    {
      "cell_type": "code",
      "source": [
        "#We know that we have 142 out of 195 countries in the world in our dataset. Now, let us see what different values does the Status column have.\n"
      ],
      "metadata": {
        "id": "9s9KAWZw4Pg7"
      },
      "execution_count": null,
      "outputs": []
    },
    {
      "cell_type": "code",
      "source": [
        "#Explore unique status types in Air quality\n",
        "print(\"\\nUnique AQI Status types:\\n\", data['Status'].unique())"
      ],
      "metadata": {
        "id": "XMSaIEH9Rmud"
      },
      "execution_count": null,
      "outputs": []
    },
    {
      "cell_type": "code",
      "source": [
        "#For distribution of AQI values\n",
        "aqi_per_status = pd.DataFrame(data.groupby(\"Status\").agg(\n",
        "min_AQI=('AQI Value', \"min\"),\n",
        "max_AQI=('AQI Value', \"max\")))\n",
        "\n",
        "aqi_per_status.sort_values(by=\"min_AQI\", ascending=True)"
      ],
      "metadata": {
        "id": "R9oFuocSDanD"
      },
      "execution_count": null,
      "outputs": []
    },
    {
      "cell_type": "code",
      "source": [
        "pivot_table = pd.DataFrame(pd.pivot_table(\n",
        "data,\n",
        "index = \"Country\",\n",
        "columns = \"Year\",\n",
        "values = \"AQI Value\",\n",
        "aggfunc = \"mean\"))\n",
        "\n",
        "pivot_table"
      ],
      "metadata": {
        "id": "28ZOgdXVDbGy"
      },
      "execution_count": null,
      "outputs": []
    },
    {
      "cell_type": "code",
      "source": [
        "# Step 3: Convert Date column to datetime format for time-based analysis\n",
        "data['Date'] = pd.to_datetime(data['Date'])"
      ],
      "metadata": {
        "id": "8zoISyXCRFIc"
      },
      "execution_count": null,
      "outputs": []
    },
    {
      "cell_type": "code",
      "source": [
        "# Visualize the trend of AQI values over time\n",
        "plt.figure(figsize=(12, 6))\n",
        "daily_aqi = data.groupby('Date')['AQI Value'].mean()\n",
        "plt.plot(daily_aqi, color='blue')\n",
        "plt.title(\"Daily Average AQI Trend\")\n",
        "plt.xlabel(\"Date\")\n",
        "plt.ylabel(\"Average AQI Value\")\n",
        "plt.grid()\n",
        "plt.show()"
      ],
      "metadata": {
        "id": "evSqsUlKR11j"
      },
      "execution_count": null,
      "outputs": []
    },
    {
      "cell_type": "code",
      "source": [
        "#Analyzing data specific to Pakistani cities,"
      ],
      "metadata": {
        "id": "lJonHRHxC3aE"
      },
      "execution_count": null,
      "outputs": []
    },
    {
      "cell_type": "code",
      "source": [
        "pakistan_data = data[data['Country'] == 'Pakistan']"
      ],
      "metadata": {
        "id": "-6yhiotcSjv8"
      },
      "execution_count": null,
      "outputs": []
    },
    {
      "cell_type": "code",
      "source": [
        "pakistan_data.head()"
      ],
      "metadata": {
        "id": "4_uOgNwWVfuH"
      },
      "execution_count": null,
      "outputs": []
    },
    {
      "cell_type": "code",
      "source": [
        "print(data.columns)"
      ],
      "metadata": {
        "id": "9GxuFmWqVjFG"
      },
      "execution_count": null,
      "outputs": []
    },
    {
      "cell_type": "code",
      "source": [
        "# Step 3: Check for unique values in Location or Status columns (if present)\n",
        "# Agar Location ya Status column hain, toh un mein unique values check karte hain\n",
        "if 'Location' in pakistan_data.columns:\n",
        "    print(\"\\nUnique Locations in Pakistan:\\n\", pakistan_data['Location'].unique())\n",
        "elif 'Status' in pakistan_data.columns:\n",
        "    print(\"\\nUnique Status types in Pakistan:\\n\", pakistan_data['Status'].unique())\n",
        "else:\n",
        "    print(\"No Location or Status column found.\")"
      ],
      "metadata": {
        "id": "9kOWmsnkZsxb"
      },
      "execution_count": null,
      "outputs": []
    },
    {
      "cell_type": "code",
      "source": [
        "#I find Lahore City in this Data set\n",
        "lahore_data = data.apply(lambda row: row.astype(str).str.contains('Lahore', case=False, na=False).any(), axis=1)"
      ],
      "metadata": {
        "id": "XTHwglY-banT"
      },
      "execution_count": null,
      "outputs": []
    },
    {
      "cell_type": "code",
      "source": [
        "lahore_rows = data[lahore_data]"
      ],
      "metadata": {
        "id": "7_01fi8Yc17L"
      },
      "execution_count": null,
      "outputs": []
    },
    {
      "cell_type": "code",
      "source": [
        "if not lahore_rows.empty:\n",
        "    print(\"Lahore is present in the dataset. Here are the rows:\\n\", lahore_rows)\n",
        "else:\n",
        "    print(\"Lahore is not present in the dataset.\")"
      ],
      "metadata": {
        "id": "EST0LjFZc7AM"
      },
      "execution_count": null,
      "outputs": []
    },
    {
      "cell_type": "code",
      "source": [
        "city_column = None\n",
        "for column in ['City', 'Location', 'Region', 'Area']:\n",
        "    if column in pakistan_data.columns:\n",
        "        city_column = column\n",
        "        unique_cities = pakistan_data[column].unique()\n",
        "        break\n",
        "\n",
        "# Display unique cities in the selected column, if found\n",
        "if city_column:\n",
        "    print(f\"Unique cities in Pakistan from the '{city_column}' column:\\n\", unique_cities)\n",
        "else:\n",
        "    print(\"No columns found with city information.\")"
      ],
      "metadata": {
        "id": "B3vXsAZcc-Tr"
      },
      "execution_count": null,
      "outputs": []
    },
    {
      "cell_type": "markdown",
      "source": [
        "Actully I want find Pakistani Air Polution But In This data set there is no specific Record about Pakistan ,"
      ],
      "metadata": {
        "id": "xTlfcwcpVSNX"
      }
    },
    {
      "cell_type": "code",
      "source": [],
      "metadata": {
        "id": "9SpnzqBWgV0K"
      },
      "execution_count": null,
      "outputs": []
    }
  ]
}